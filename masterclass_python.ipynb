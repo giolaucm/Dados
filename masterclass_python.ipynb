{
  "nbformat": 4,
  "nbformat_minor": 0,
  "metadata": {
    "colab": {
      "provenance": [],
      "authorship_tag": "ABX9TyNcFk/75aKTKV1l8FzcfuRN",
      "include_colab_link": true
    },
    "kernelspec": {
      "name": "python3",
      "display_name": "Python 3"
    },
    "language_info": {
      "name": "python"
    }
  },
  "cells": [
    {
      "cell_type": "markdown",
      "metadata": {
        "id": "view-in-github",
        "colab_type": "text"
      },
      "source": [
        "<a href=\"https://colab.research.google.com/github/giolaucm/Dados/blob/main/masterclass_python.ipynb\" target=\"_parent\"><img src=\"https://colab.research.google.com/assets/colab-badge.svg\" alt=\"Open In Colab\"/></a>"
      ]
    },
    {
      "cell_type": "code",
      "execution_count": null,
      "metadata": {
        "colab": {
          "base_uri": "https://localhost:8080/"
        },
        "id": "8iY8-L8hJaIm",
        "outputId": "5d280b30-661f-4e21-8df5-b4ecbb544dcb"
      },
      "outputs": [
        {
          "output_type": "execute_result",
          "data": {
            "text/plain": [
              "43"
            ]
          },
          "metadata": {},
          "execution_count": 11
        }
      ],
      "source": [
        "#Biblioteca que realiza requisições (Acessa URL's)\n",
        "import requests\n",
        "\n",
        "#Armazena a url que possui as informações que quero buscar.\n",
        "url = 'https://raw.githubusercontent.com/guilhermeonrails/api-imersao-ia/main/words.json'\n",
        "# Faz a requisição e armazena a resposta\n",
        "resposta = requests.get(url)\n",
        "data = resposta.json()\n",
        "len(data)"
      ]
    },
    {
      "cell_type": "code",
      "source": [
        "import random\n",
        "\n",
        "valor_secreto = random.choice(data)\n",
        "palavra_secreta = valor_secreto['palavra']\n",
        "dica = valor_secreto['dica']\n",
        "print(f'A palavra secreta tem {len(palavra_secreta)} letras')\n",
        "print(f'A dica é -> {dica}')\n",
        "#rint(dica)\n",
        "#chute ou palpite (O \"input\" é um campo de escrita)\n",
        "chute = input('O que você acha que é:')\n",
        "\n",
        "if (chute == palavra_secreta):\n",
        "    print(\"Palavra correta!\")\n",
        "else:\n",
        "    print(f'A palavra correta era {palavra_secreta}')"
      ],
      "metadata": {
        "colab": {
          "base_uri": "https://localhost:8080/"
        },
        "id": "Wxlup_nYOdXT",
        "outputId": "7f1d7c1b-ff2c-4aaf-c2d6-2cb24f31c2e9"
      },
      "execution_count": null,
      "outputs": [
        {
          "output_type": "stream",
          "name": "stdout",
          "text": [
            "A palavra secreta tem 7 letras\n",
            "A dica é -> desenvolver aplicativos para dispositivos móveis android.\n",
            "O que você acha que é:kotlin\n",
            "A palavra correta era android\n"
          ]
        }
      ]
    },
    {
      "cell_type": "code",
      "source": [],
      "metadata": {
        "id": "S7t5IWh1aZki"
      },
      "execution_count": null,
      "outputs": []
    }
  ]
}